{
 "cells": [
  {
   "metadata": {
    "ExecuteTime": {
     "end_time": "2025-08-29T14:08:12.521586Z",
     "start_time": "2025-08-29T14:08:12.513314Z"
    }
   },
   "cell_type": "code",
   "source": [
    "import random\n",
    "from prime import *"
   ],
   "id": "1a5ee32a42b27875",
   "outputs": [],
   "execution_count": 1
  },
  {
   "metadata": {
    "ExecuteTime": {
     "end_time": "2025-08-29T14:08:12.554360Z",
     "start_time": "2025-08-29T14:08:12.547833Z"
    }
   },
   "cell_type": "code",
   "source": [
    "p = 0\n",
    "q = 0"
   ],
   "id": "20c76c78651f4a61",
   "outputs": [],
   "execution_count": 2
  },
  {
   "metadata": {
    "ExecuteTime": {
     "end_time": "2025-08-29T14:08:12.586448Z",
     "start_time": "2025-08-29T14:08:12.564556Z"
    }
   },
   "cell_type": "code",
   "source": [
    "def generate_n():\n",
    "    min_length = 40\n",
    "    max_length = 50\n",
    "\n",
    "    length = random.randint(min_length, max_length)\n",
    "    global p\n",
    "    p = generate_prime_number(length)\n",
    "\n",
    "    length = random.randint(min_length, max_length)\n",
    "    global q\n",
    "    q = generate_prime_number(length)\n",
    "\n",
    "    n = p * q\n",
    "    return n\n",
    "\n",
    "n = generate_n()\n",
    "print(n)"
   ],
   "id": "32d6c3a53bc15d70",
   "outputs": [
    {
     "name": "stdout",
     "output_type": "stream",
     "text": [
      "5306245437687326002891747263622752026285781046751499606303673370185129386011825847940513\n"
     ]
    }
   ],
   "execution_count": 3
  },
  {
   "metadata": {
    "ExecuteTime": {
     "end_time": "2025-08-29T14:08:12.632964Z",
     "start_time": "2025-08-29T14:08:12.626782Z"
    }
   },
   "cell_type": "code",
   "source": [
    "def phi(p,q):\n",
    "    if p == 0 or q == 0:\n",
    "        return -1\n",
    "    return (p-1)*(q-1)\n",
    "\n",
    "phi_n = phi(p,q)\n",
    "print(f\"phi(p,q) = {phi_n}\")\n",
    "e = find_coprime_e(phi(p,q))\n",
    "print(f\"e = {e}\")"
   ],
   "id": "d0205aa37f46af14",
   "outputs": [
    {
     "name": "stdout",
     "output_type": "stream",
     "text": [
      "phi(p,q) = 5306245437687326002891747263622752026285719513500147135636227246463791323533140132533060\n",
      "e = 65537\n"
     ]
    }
   ],
   "execution_count": 4
  },
  {
   "metadata": {
    "ExecuteTime": {
     "end_time": "2025-08-29T14:08:12.653694Z",
     "start_time": "2025-08-29T14:08:12.649487Z"
    }
   },
   "cell_type": "code",
   "source": [
    "def cryptography(message):\n",
    "    cipher = pow(message,e, n)\n",
    "    return cipher"
   ],
   "id": "dad2a8c0ac7b4ff4",
   "outputs": [],
   "execution_count": 5
  },
  {
   "metadata": {
    "ExecuteTime": {
     "end_time": "2025-08-29T14:08:12.665267Z",
     "start_time": "2025-08-29T14:08:12.661417Z"
    }
   },
   "cell_type": "code",
   "source": [
    "d = inverse_euclidean_d(phi_n, e)\n",
    "def decryption(cipher):\n",
    "    message = pow(cipher, d, n)\n",
    "    return message"
   ],
   "id": "e00aa65743f20ce3",
   "outputs": [],
   "execution_count": 6
  }
 ],
 "metadata": {
  "kernelspec": {
   "display_name": "Python 3",
   "language": "python",
   "name": "python3"
  },
  "language_info": {
   "codemirror_mode": {
    "name": "ipython",
    "version": 2
   },
   "file_extension": ".py",
   "mimetype": "text/x-python",
   "name": "python",
   "nbconvert_exporter": "python",
   "pygments_lexer": "ipython2",
   "version": "2.7.6"
  }
 },
 "nbformat": 4,
 "nbformat_minor": 5
}
