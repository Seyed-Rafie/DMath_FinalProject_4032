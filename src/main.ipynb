{
 "cells": [
  {
   "metadata": {
    "ExecuteTime": {
     "end_time": "2025-08-28T18:11:27.495314Z",
     "start_time": "2025-08-28T18:11:27.486842Z"
    }
   },
   "cell_type": "code",
   "source": [
    "import random\n",
    "from prime import generate_prime_number"
   ],
   "id": "1a5ee32a42b27875",
   "outputs": [],
   "execution_count": 2
  },
  {
   "metadata": {
    "ExecuteTime": {
     "end_time": "2025-08-28T18:11:29.052598Z",
     "start_time": "2025-08-28T18:11:29.049583Z"
    }
   },
   "cell_type": "code",
   "source": [
    "p = 0\n",
    "q = 0"
   ],
   "id": "20c76c78651f4a61",
   "outputs": [],
   "execution_count": 3
  },
  {
   "metadata": {
    "ExecuteTime": {
     "end_time": "2025-08-28T18:11:30.429036Z",
     "start_time": "2025-08-28T18:11:30.411892Z"
    }
   },
   "cell_type": "code",
   "source": [
    "def generate_n():\n",
    "    min_length = 40\n",
    "    max_length = 50\n",
    "\n",
    "    length = random.randint(min_length, max_length)\n",
    "    global p\n",
    "    p = generate_prime_number(length)\n",
    "\n",
    "    length = random.randint(min_length, max_length)\n",
    "    global q\n",
    "    q = generate_prime_number(length)\n",
    "\n",
    "    n = p * q\n",
    "    return n\n",
    "\n",
    "print(generate_n())"
   ],
   "id": "32d6c3a53bc15d70",
   "outputs": [
    {
     "name": "stdout",
     "output_type": "stream",
     "text": [
      "1045573803995041651080485615438481856483423302458814986545044409071202401077240109711902827\n"
     ]
    }
   ],
   "execution_count": 4
  },
  {
   "metadata": {
    "ExecuteTime": {
     "end_time": "2025-08-28T18:11:42.232215Z",
     "start_time": "2025-08-28T18:11:42.224889Z"
    }
   },
   "cell_type": "code",
   "source": [
    "def phi():\n",
    "    if p == 0 or q == 0:\n",
    "        return -1\n",
    "    return (p-1)*(q-1)\n",
    "\n",
    "print(phi())"
   ],
   "id": "d0205aa37f46af14",
   "outputs": [
    {
     "name": "stdout",
     "output_type": "stream",
     "text": [
      "1045573803995041651080485615438481856483423151289966549216941854580117386215608628975338040\n"
     ]
    }
   ],
   "execution_count": 6
  }
 ],
 "metadata": {
  "kernelspec": {
   "display_name": "Python 3",
   "language": "python",
   "name": "python3"
  },
  "language_info": {
   "codemirror_mode": {
    "name": "ipython",
    "version": 2
   },
   "file_extension": ".py",
   "mimetype": "text/x-python",
   "name": "python",
   "nbconvert_exporter": "python",
   "pygments_lexer": "ipython2",
   "version": "2.7.6"
  }
 },
 "nbformat": 4,
 "nbformat_minor": 5
}
