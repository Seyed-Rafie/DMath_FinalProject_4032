{
 "cells": [
  {
   "metadata": {
    "ExecuteTime": {
     "end_time": "2025-08-29T03:14:47.518447Z",
     "start_time": "2025-08-29T03:14:47.512966Z"
    }
   },
   "cell_type": "code",
   "source": [
    "import random\n",
    "from prime import generate_prime_number"
   ],
   "id": "1a5ee32a42b27875",
   "outputs": [],
   "execution_count": 1
  },
  {
   "metadata": {
    "ExecuteTime": {
     "end_time": "2025-08-29T03:14:50.339297Z",
     "start_time": "2025-08-29T03:14:50.335340Z"
    }
   },
   "cell_type": "code",
   "source": [
    "p = 0\n",
    "q = 0"
   ],
   "id": "20c76c78651f4a61",
   "outputs": [],
   "execution_count": 2
  },
  {
   "metadata": {
    "ExecuteTime": {
     "end_time": "2025-08-29T03:14:53.540310Z",
     "start_time": "2025-08-29T03:14:53.523322Z"
    }
   },
   "cell_type": "code",
   "source": [
    "def generate_n():\n",
    "    min_length = 40\n",
    "    max_length = 50\n",
    "\n",
    "    length = random.randint(min_length, max_length)\n",
    "    global p\n",
    "    p = generate_prime_number(length)\n",
    "\n",
    "    length = random.randint(min_length, max_length)\n",
    "    global q\n",
    "    q = generate_prime_number(length)\n",
    "\n",
    "    n = p * q\n",
    "    return n\n",
    "\n",
    "print(generate_n())"
   ],
   "id": "32d6c3a53bc15d70",
   "outputs": [
    {
     "name": "stdout",
     "output_type": "stream",
     "text": [
      "75927450441915960805292968577340351872833137130806733289799142718335754314910073572437\n"
     ]
    }
   ],
   "execution_count": 3
  },
  {
   "metadata": {
    "ExecuteTime": {
     "end_time": "2025-08-29T03:14:56.416408Z",
     "start_time": "2025-08-29T03:14:56.411046Z"
    }
   },
   "cell_type": "code",
   "source": [
    "def phi():\n",
    "    if p == 0 or q == 0:\n",
    "        return -1\n",
    "    return (p-1)*(q-1)\n",
    "\n",
    "print(phi())"
   ],
   "id": "d0205aa37f46af14",
   "outputs": [
    {
     "name": "stdout",
     "output_type": "stream",
     "text": [
      "75927450441915960805292968577340351872829512651092542648901660877015589971601862429900\n"
     ]
    }
   ],
   "execution_count": 4
  }
 ],
 "metadata": {
  "kernelspec": {
   "display_name": "Python 3",
   "language": "python",
   "name": "python3"
  },
  "language_info": {
   "codemirror_mode": {
    "name": "ipython",
    "version": 2
   },
   "file_extension": ".py",
   "mimetype": "text/x-python",
   "name": "python",
   "nbconvert_exporter": "python",
   "pygments_lexer": "ipython2",
   "version": "2.7.6"
  }
 },
 "nbformat": 4,
 "nbformat_minor": 5
}
